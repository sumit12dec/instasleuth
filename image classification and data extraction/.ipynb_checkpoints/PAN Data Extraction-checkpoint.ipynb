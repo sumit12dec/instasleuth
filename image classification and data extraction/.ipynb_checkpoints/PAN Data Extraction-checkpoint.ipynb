{
 "cells": [
  {
   "cell_type": "code",
   "execution_count": 122,
   "metadata": {
    "collapsed": false
   },
   "outputs": [],
   "source": [
    "import numpy as np\n",
    "threshold = 200     #the average of the darkest values must be _below_ this to count (0 is darkest, 255 is lightest)\n",
    "obviousness = 50    #how many of the darkest pixels to include (1 would mean a single dark pixel triggers it)\n",
    "\n",
    "from PIL import Image\n",
    "from pytesseract import image_to_string\n",
    "def find_line(vals):\n",
    "    #implement edge detection once, use many times \n",
    "    for i,tmp in enumerate(vals):\n",
    "        tmp.sort()\n",
    "        average = float(sum(tmp[:obviousness]))/len(tmp[:obviousness])\n",
    "        if average <= threshold:\n",
    "            return i\n",
    "    return i    #i is left over from failed threshold finding, it is the bounds\n",
    "\n",
    "def getbox(img):\n",
    "    #get the bounding box of the interesting part of a PIL image object\n",
    "    #this is done by getting the darekest of the R, G or B value of each pixel\n",
    "    #and finding were the edge gest dark/colored enough\n",
    "    #returns a tuple of (left,upper,right,lower)\n",
    "\n",
    "    width, height = img.size    #for making a 2d array\n",
    "    retval = [0,0,width,height] #values will be disposed of, but this is a black image's box \n",
    "\n",
    "    pixels = list(img.getdata())\n",
    "    vals = []                   #store the value of the darkest color\n",
    "    for pixel in pixels:\n",
    "        vals.append(min(pixel)) #the darkest of the R,G or B values\n",
    "\n",
    "    #make 2d array\n",
    "    vals = np.array([vals[i * width:(i + 1) * width] for i in xrange(height)])\n",
    "\n",
    "    #start with upper bounds\n",
    "    forupper = vals.copy()\n",
    "    retval[1] = find_line(forupper)\n",
    "\n",
    "    #next, do lower bounds\n",
    "    forlower = vals.copy()\n",
    "    forlower = np.flipud(forlower)\n",
    "    retval[3] = height - find_line(forlower)\n",
    "\n",
    "    #left edge, same as before but roatate the data so left edge is top edge\n",
    "    forleft = vals.copy()\n",
    "    forleft = np.swapaxes(forleft,0,1)\n",
    "    retval[0] = find_line(forleft)\n",
    "\n",
    "    #and right edge is bottom edge of rotated array\n",
    "    forright = vals.copy()\n",
    "    forright = np.swapaxes(forright,0,1)\n",
    "    forright = np.flipud(forright)\n",
    "    retval[2] = width - find_line(forright)\n",
    "\n",
    "    if retval[0] >= retval[2] or retval[1] >= retval[3]:\n",
    "        print \"error, bounding box is not legit\"\n",
    "        return None\n",
    "    return tuple(retval)\n",
    "\n",
    "def crop_image(image_name):\n",
    "    image = Image.open(image_name)\n",
    "    box = getbox(image)\n",
    "    #print \"result is: \",box\n",
    "    result = image.crop(box)\n",
    "    cropped_image_name = 'cropped_'+image_name\n",
    "    result.save(cropped_image_name)\n",
    "    #result.show()\n",
    "    ratio = (box[2]-box[0])/float(box[3]-box[1])\n",
    "    return (cropped_image_name, ratio)"
   ]
  },
  {
   "cell_type": "code",
   "execution_count": 123,
   "metadata": {
    "collapsed": false
   },
   "outputs": [],
   "source": [
    "image_to_process, ratio = crop_image('pan2.jpg')"
   ]
  },
  {
   "cell_type": "code",
   "execution_count": 124,
   "metadata": {
    "collapsed": false
   },
   "outputs": [
    {
     "data": {
      "text/plain": [
       "1.6221374045801527"
      ]
     },
     "execution_count": 124,
     "metadata": {},
     "output_type": "execute_result"
    }
   ],
   "source": [
    "ratio"
   ]
  },
  {
   "cell_type": "code",
   "execution_count": 125,
   "metadata": {
    "collapsed": false
   },
   "outputs": [],
   "source": [
    "if ratio < 1:\n",
    "    img = Image.open(image_to_process)\n",
    "    img2 = img.rotate(90, expand=True)\n",
    "    img2.save(image_to_process)\n",
    "    t = Image.open(image_to_process)\n",
    "\n",
    "text_from_image = image_to_string(t, lang='eng')\n",
    "\n",
    "if \"INCOME\" in text_from_image:\n",
    "    pass\n",
    "else:\n",
    "    img = Image.open(image_to_process)\n",
    "    img2 = img.rotate(180, expand=True)\n",
    "    img2.save(image_to_process)\n",
    "    t = Image.open(image_to_process)\n",
    "    text_from_image = image_to_string(t, lang='eng')\n"
   ]
  },
  {
   "cell_type": "code",
   "execution_count": 126,
   "metadata": {
    "collapsed": false
   },
   "outputs": [],
   "source": [
    "list_of_words = text_from_image.split('\\n')"
   ]
  },
  {
   "cell_type": "code",
   "execution_count": 128,
   "metadata": {
    "collapsed": false
   },
   "outputs": [
    {
     "data": {
      "text/plain": [
       "[u'g ,',\n",
       " u'W Forum',\n",
       " u'',\n",
       " u'INCOMETAXDEPARTMENT',\n",
       " u'',\n",
       " u'DMANIKANDAN',\n",
       " u'',\n",
       " u'DURAISAMY',\n",
       " u'',\n",
       " u'1 6/07/1 986',\n",
       " u'Permanent Accounl Number',\n",
       " u'',\n",
       " u'BNZPM2501 F',\n",
       " u'',\n",
       " u'@- \\u201cMN? \\u201c\\u201863:\"?',\n",
       " u'',\n",
       " u'Signature']"
      ]
     },
     "execution_count": 128,
     "metadata": {},
     "output_type": "execute_result"
    }
   ],
   "source": [
    "list_of_words"
   ]
  },
  {
   "cell_type": "code",
   "execution_count": 118,
   "metadata": {
    "collapsed": false
   },
   "outputs": [],
   "source": [
    "cleaned_words = []\n",
    "for word in list_of_words:\n",
    "    stripped_word = word.strip()\n",
    "    if len(stripped_word)>1:\n",
    "        cleaned_words.append(stripped_word)"
   ]
  },
  {
   "cell_type": "code",
   "execution_count": 119,
   "metadata": {
    "collapsed": false
   },
   "outputs": [],
   "source": [
    "for i, word in enumerate(cleaned_words):\n",
    "    if \"INCOME\" in word:\n",
    "        break\n",
    "        "
   ]
  },
  {
   "cell_type": "code",
   "execution_count": 120,
   "metadata": {
    "collapsed": false
   },
   "outputs": [],
   "source": [
    "user_name = cleaned_words[3]\n",
    "fathers_name = cleaned_words[4]\n",
    "dob = cleaned_words[5].replace(' ', '')\n",
    "\n",
    "pan_card_no = cleaned_words[7].replace(' ', '')"
   ]
  },
  {
   "cell_type": "code",
   "execution_count": 121,
   "metadata": {
    "collapsed": false
   },
   "outputs": [
    {
     "data": {
      "text/plain": [
       "(u'DMANIKANDAN', u'DURAISAMY', u'16/07/1986', u'BNZPM2501F')"
      ]
     },
     "execution_count": 121,
     "metadata": {},
     "output_type": "execute_result"
    }
   ],
   "source": [
    "user_name, fathers_name, dob, pan_card_no"
   ]
  },
  {
   "cell_type": "code",
   "execution_count": 80,
   "metadata": {
    "collapsed": false
   },
   "outputs": [
    {
     "data": {
      "text/plain": [
       "u'16/07/1986'"
      ]
     },
     "execution_count": 80,
     "metadata": {},
     "output_type": "execute_result"
    }
   ],
   "source": [
    "dob.replace(' ', '')"
   ]
  },
  {
   "cell_type": "code",
   "execution_count": null,
   "metadata": {
    "collapsed": true
   },
   "outputs": [],
   "source": []
  }
 ],
 "metadata": {
  "kernelspec": {
   "display_name": "Python 2",
   "language": "python",
   "name": "python2"
  },
  "language_info": {
   "codemirror_mode": {
    "name": "ipython",
    "version": 2
   },
   "file_extension": ".py",
   "mimetype": "text/x-python",
   "name": "python",
   "nbconvert_exporter": "python",
   "pygments_lexer": "ipython2",
   "version": "2.7.10"
  }
 },
 "nbformat": 4,
 "nbformat_minor": 0
}
